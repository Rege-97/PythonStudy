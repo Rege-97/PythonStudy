{
 "cells": [
  {
   "cell_type": "code",
   "id": "initial_id",
   "metadata": {
    "collapsed": true,
    "ExecuteTime": {
     "end_time": "2025-04-13T04:56:16.831801Z",
     "start_time": "2025-04-13T04:56:01.084526Z"
    }
   },
   "source": [
    "# 10진수 수 입력\n",
    "num = int(input(\"10진수 수를 입력하시오\"))\n",
    "# 결과값을 담을 빈 리스트 생성\n",
    "result = []\n",
    "# 2로 나눈 나머지를 리스트에 담고 몫을 num에 담아 0이 되면 종료\n",
    "while num > 0:\n",
    "    result.append(num % 2)\n",
    "    num = num // 2\n",
    "\n",
    "# 인덱스 i를 리스트의 사이즈 -1(마지막 인덱스)로 설정\n",
    "i = len(result) - 1\n",
    "# i를 1씩 줄여 0이 될때까지 리스트의 뒤에서부터 2진수 값 출력\n",
    "while i >= 0:\n",
    "    print(result[i], end=\"\")\n",
    "    i = i - 1\n",
    "\n"
   ],
   "outputs": [
    {
     "name": "stdout",
     "output_type": "stream",
     "text": [
      "1010"
     ]
    }
   ],
   "execution_count": 8
  },
  {
   "metadata": {
    "ExecuteTime": {
     "end_time": "2025-04-13T04:48:52.085730Z",
     "start_time": "2025-04-13T04:48:52.082733Z"
    }
   },
   "cell_type": "code",
   "source": "",
   "id": "b147b8ce4cb98544",
   "outputs": [],
   "execution_count": null
  },
  {
   "metadata": {},
   "cell_type": "code",
   "outputs": [],
   "execution_count": null,
   "source": "",
   "id": "92b8ba562440f555"
  }
 ],
 "metadata": {
  "kernelspec": {
   "display_name": "Python 3",
   "language": "python",
   "name": "python3"
  },
  "language_info": {
   "codemirror_mode": {
    "name": "ipython",
    "version": 2
   },
   "file_extension": ".py",
   "mimetype": "text/x-python",
   "name": "python",
   "nbconvert_exporter": "python",
   "pygments_lexer": "ipython2",
   "version": "2.7.6"
  }
 },
 "nbformat": 4,
 "nbformat_minor": 5
}
