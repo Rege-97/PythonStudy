{
 "cells": [
  {
   "cell_type": "code",
   "id": "initial_id",
   "metadata": {
    "collapsed": true,
    "ExecuteTime": {
     "end_time": "2025-03-01T07:42:29.164388Z",
     "start_time": "2025-03-01T07:42:29.156752Z"
    }
   },
   "source": "5 / 2",
   "outputs": [
    {
     "data": {
      "text/plain": [
       "2.5"
      ]
     },
     "execution_count": 1,
     "metadata": {},
     "output_type": "execute_result"
    }
   ],
   "execution_count": 1
  },
  {
   "metadata": {
    "ExecuteTime": {
     "end_time": "2025-03-01T07:42:39.278465Z",
     "start_time": "2025-03-01T07:42:39.271565Z"
    }
   },
   "cell_type": "code",
   "source": "5 // 2",
   "id": "8526df5d1a680d5c",
   "outputs": [
    {
     "data": {
      "text/plain": [
       "2"
      ]
     },
     "execution_count": 2,
     "metadata": {},
     "output_type": "execute_result"
    }
   ],
   "execution_count": 2
  },
  {
   "metadata": {
    "ExecuteTime": {
     "end_time": "2025-03-01T07:43:19.192731Z",
     "start_time": "2025-03-01T07:43:19.181941Z"
    }
   },
   "cell_type": "code",
   "source": "25 % 7",
   "id": "acd5812b181a917d",
   "outputs": [
    {
     "data": {
      "text/plain": [
       "4"
      ]
     },
     "execution_count": 4,
     "metadata": {},
     "output_type": "execute_result"
    }
   ],
   "execution_count": 4
  },
  {
   "metadata": {
    "ExecuteTime": {
     "end_time": "2025-03-01T07:43:28.876856Z",
     "start_time": "2025-03-01T07:43:28.865636Z"
    }
   },
   "cell_type": "code",
   "source": "8.4 % 0.9",
   "id": "355dd2d6326f80c1",
   "outputs": [
    {
     "data": {
      "text/plain": [
       "0.30000000000000016"
      ]
     },
     "execution_count": 5,
     "metadata": {},
     "output_type": "execute_result"
    }
   ],
   "execution_count": 5
  },
  {
   "metadata": {
    "ExecuteTime": {
     "end_time": "2025-03-01T07:43:59.839345Z",
     "start_time": "2025-03-01T07:43:59.832480Z"
    }
   },
   "cell_type": "code",
   "source": [
    "number = 9\n",
    "number % 2"
   ],
   "id": "64a12d89eca43407",
   "outputs": [
    {
     "data": {
      "text/plain": [
       "1"
      ]
     },
     "execution_count": 7,
     "metadata": {},
     "output_type": "execute_result"
    }
   ],
   "execution_count": 7
  },
  {
   "metadata": {
    "ExecuteTime": {
     "end_time": "2025-03-01T07:44:24.601799Z",
     "start_time": "2025-03-01T07:44:24.590903Z"
    }
   },
   "cell_type": "code",
   "source": "max(2, 3, 4)",
   "id": "8fbd80c40c9fc016",
   "outputs": [
    {
     "data": {
      "text/plain": [
       "4"
      ]
     },
     "execution_count": 8,
     "metadata": {},
     "output_type": "execute_result"
    }
   ],
   "execution_count": 8
  },
  {
   "metadata": {
    "ExecuteTime": {
     "end_time": "2025-03-01T07:44:34.175213Z",
     "start_time": "2025-03-01T07:44:34.166539Z"
    }
   },
   "cell_type": "code",
   "source": "min(2, 3, 4)",
   "id": "6be4b7c657beffac",
   "outputs": [
    {
     "data": {
      "text/plain": [
       "2"
      ]
     },
     "execution_count": 9,
     "metadata": {},
     "output_type": "execute_result"
    }
   ],
   "execution_count": 9
  },
  {
   "metadata": {
    "ExecuteTime": {
     "end_time": "2025-03-01T07:44:40.738886Z",
     "start_time": "2025-03-01T07:44:40.733718Z"
    }
   },
   "cell_type": "code",
   "source": "round(3.14)",
   "id": "5568e54659326e45",
   "outputs": [
    {
     "data": {
      "text/plain": [
       "3"
      ]
     },
     "execution_count": 10,
     "metadata": {},
     "output_type": "execute_result"
    }
   ],
   "execution_count": 10
  },
  {
   "metadata": {
    "ExecuteTime": {
     "end_time": "2025-03-01T07:44:47.565301Z",
     "start_time": "2025-03-01T07:44:47.560168Z"
    }
   },
   "cell_type": "code",
   "source": "abs(-3)",
   "id": "b88e1d7acbfc527c",
   "outputs": [
    {
     "data": {
      "text/plain": [
       "3"
      ]
     },
     "execution_count": 11,
     "metadata": {},
     "output_type": "execute_result"
    }
   ],
   "execution_count": 11
  },
  {
   "metadata": {
    "ExecuteTime": {
     "end_time": "2025-03-01T07:44:54.397930Z",
     "start_time": "2025-03-01T07:44:54.392912Z"
    }
   },
   "cell_type": "code",
   "source": "pow(2, 3)",
   "id": "c161de81ae3b73b",
   "outputs": [
    {
     "data": {
      "text/plain": [
       "8"
      ]
     },
     "execution_count": 12,
     "metadata": {},
     "output_type": "execute_result"
    }
   ],
   "execution_count": 12
  }
 ],
 "metadata": {
  "kernelspec": {
   "display_name": "Python 3",
   "language": "python",
   "name": "python3"
  },
  "language_info": {
   "codemirror_mode": {
    "name": "ipython",
    "version": 2
   },
   "file_extension": ".py",
   "mimetype": "text/x-python",
   "name": "python",
   "nbconvert_exporter": "python",
   "pygments_lexer": "ipython2",
   "version": "2.7.6"
  }
 },
 "nbformat": 4,
 "nbformat_minor": 5
}
