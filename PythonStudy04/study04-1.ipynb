{
 "cells": [
  {
   "cell_type": "code",
   "id": "initial_id",
   "metadata": {
    "collapsed": true,
    "ExecuteTime": {
     "end_time": "2025-03-01T07:17:59.453590Z",
     "start_time": "2025-03-01T07:17:59.436908Z"
    }
   },
   "source": "\"Hello World\"",
   "outputs": [
    {
     "data": {
      "text/plain": [
       "'Hello World'"
      ]
     },
     "execution_count": 1,
     "metadata": {},
     "output_type": "execute_result"
    }
   ],
   "execution_count": 1
  },
  {
   "metadata": {
    "ExecuteTime": {
     "end_time": "2025-03-01T07:18:12.412060Z",
     "start_time": "2025-03-01T07:18:12.406731Z"
    }
   },
   "cell_type": "code",
   "source": "3.141592",
   "id": "bf46814d7e75dca4",
   "outputs": [
    {
     "data": {
      "text/plain": [
       "3.141592"
      ]
     },
     "execution_count": 2,
     "metadata": {},
     "output_type": "execute_result"
    }
   ],
   "execution_count": 2
  },
  {
   "metadata": {
    "ExecuteTime": {
     "end_time": "2025-03-01T07:18:39.738018Z",
     "start_time": "2025-03-01T07:18:39.726459Z"
    }
   },
   "cell_type": "code",
   "source": "\"Computer\"",
   "id": "678c0c3a7dfdccfb",
   "outputs": [
    {
     "data": {
      "text/plain": [
       "'Computer'"
      ]
     },
     "execution_count": 3,
     "metadata": {},
     "output_type": "execute_result"
    }
   ],
   "execution_count": 3
  },
  {
   "metadata": {
    "ExecuteTime": {
     "end_time": "2025-03-01T07:19:38.845604Z",
     "start_time": "2025-03-01T07:19:38.838066Z"
    }
   },
   "cell_type": "code",
   "source": "2 * 7",
   "id": "655f9313993d7864",
   "outputs": [
    {
     "data": {
      "text/plain": [
       "14"
      ]
     },
     "execution_count": 4,
     "metadata": {},
     "output_type": "execute_result"
    }
   ],
   "execution_count": 4
  },
  {
   "metadata": {
    "ExecuteTime": {
     "end_time": "2025-03-01T07:20:25.634634Z",
     "start_time": "2025-03-01T07:20:25.621360Z"
    }
   },
   "cell_type": "code",
   "source": "(7 + 15) * 2",
   "id": "84f1ca9bacc1464b",
   "outputs": [
    {
     "data": {
      "text/plain": [
       "44"
      ]
     },
     "execution_count": 6,
     "metadata": {},
     "output_type": "execute_result"
    }
   ],
   "execution_count": 6
  },
  {
   "metadata": {
    "ExecuteTime": {
     "end_time": "2025-03-01T07:21:01.752047Z",
     "start_time": "2025-03-01T07:21:01.747009Z"
    }
   },
   "cell_type": "code",
   "source": "2 ** 10 * 5",
   "id": "c07eb008d30ce664",
   "outputs": [
    {
     "data": {
      "text/plain": [
       "5120"
      ]
     },
     "execution_count": 7,
     "metadata": {},
     "output_type": "execute_result"
    }
   ],
   "execution_count": 7
  },
  {
   "metadata": {
    "ExecuteTime": {
     "end_time": "2025-03-01T07:21:37.567950Z",
     "start_time": "2025-03-01T07:21:37.560720Z"
    }
   },
   "cell_type": "code",
   "source": "\"computer\" + \"science\"",
   "id": "d7eb4a873c13ec15",
   "outputs": [
    {
     "data": {
      "text/plain": [
       "'computerscience'"
      ]
     },
     "execution_count": 8,
     "metadata": {},
     "output_type": "execute_result"
    }
   ],
   "execution_count": 8
  },
  {
   "metadata": {
    "ExecuteTime": {
     "end_time": "2025-03-01T07:22:04.011266Z",
     "start_time": "2025-03-01T07:22:04.006315Z"
    }
   },
   "cell_type": "code",
   "source": "\"computer\" * 2",
   "id": "1e0895859433db2f",
   "outputs": [
    {
     "data": {
      "text/plain": [
       "'computercomputer'"
      ]
     },
     "execution_count": 9,
     "metadata": {},
     "output_type": "execute_result"
    }
   ],
   "execution_count": 9
  },
  {
   "metadata": {
    "ExecuteTime": {
     "end_time": "2025-03-01T07:22:37.009898Z",
     "start_time": "2025-03-01T07:22:37.004779Z"
    }
   },
   "cell_type": "code",
   "source": "print(2 * 7)",
   "id": "6e9a1c1d94743ee6",
   "outputs": [
    {
     "name": "stdout",
     "output_type": "stream",
     "text": [
      "14\n"
     ]
    }
   ],
   "execution_count": 11
  },
  {
   "metadata": {
    "ExecuteTime": {
     "end_time": "2025-03-01T07:23:25.890407Z",
     "start_time": "2025-03-01T07:23:25.880628Z"
    }
   },
   "cell_type": "code",
   "source": [
    "print(\"Hello World\")\n",
    "print(\"Python is Fun\")"
   ],
   "id": "80cf1d6a04ef4e97",
   "outputs": [
    {
     "name": "stdout",
     "output_type": "stream",
     "text": [
      "Hello World\n",
      "Python is Fun\n"
     ]
    }
   ],
   "execution_count": 16
  },
  {
   "metadata": {
    "ExecuteTime": {
     "end_time": "2025-03-01T07:24:58.149329Z",
     "start_time": "2025-03-01T07:24:58.145329Z"
    }
   },
   "cell_type": "code",
   "source": [
    "# 학점 계산\n",
    "print((4.5 * 2 + 4.0 * 3) / 2)"
   ],
   "id": "1e59eedf841d3d8d",
   "outputs": [
    {
     "name": "stdout",
     "output_type": "stream",
     "text": [
      "10.5\n"
     ]
    }
   ],
   "execution_count": 19
  }
 ],
 "metadata": {
  "kernelspec": {
   "display_name": "Python 3",
   "language": "python",
   "name": "python3"
  },
  "language_info": {
   "codemirror_mode": {
    "name": "ipython",
    "version": 2
   },
   "file_extension": ".py",
   "mimetype": "text/x-python",
   "name": "python",
   "nbconvert_exporter": "python",
   "pygments_lexer": "ipython2",
   "version": "2.7.6"
  }
 },
 "nbformat": 4,
 "nbformat_minor": 5
}
