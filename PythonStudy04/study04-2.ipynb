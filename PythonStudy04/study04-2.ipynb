{
 "cells": [
  {
   "cell_type": "code",
   "id": "initial_id",
   "metadata": {
    "collapsed": true,
    "ExecuteTime": {
     "end_time": "2025-03-01T07:38:01.511165Z",
     "start_time": "2025-03-01T07:38:01.506059Z"
    }
   },
   "source": [
    "#반지름, 높이 값 할당\n",
    "rad = 40\n",
    "hei = 10\n",
    "\n",
    "#부피 출력\n",
    "print(1 / 3 * 3.14 * rad ** 2 * hei)\n",
    "#높이 출력\n",
    "print(3.14 * rad ** 2 + 3.14 * rad * hei)"
   ],
   "outputs": [
    {
     "name": "stdout",
     "output_type": "stream",
     "text": [
      "16746.666666666664\n",
      "6280.0\n"
     ]
    }
   ],
   "execution_count": 3
  }
 ],
 "metadata": {
  "kernelspec": {
   "display_name": "Python 3",
   "language": "python",
   "name": "python3"
  },
  "language_info": {
   "codemirror_mode": {
    "name": "ipython",
    "version": 2
   },
   "file_extension": ".py",
   "mimetype": "text/x-python",
   "name": "python",
   "nbconvert_exporter": "python",
   "pygments_lexer": "ipython2",
   "version": "2.7.6"
  }
 },
 "nbformat": 4,
 "nbformat_minor": 5
}
