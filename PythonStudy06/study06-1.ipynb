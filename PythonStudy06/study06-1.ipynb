{
 "cells": [
  {
   "cell_type": "code",
   "id": "initial_id",
   "metadata": {
    "collapsed": true,
    "ExecuteTime": {
     "end_time": "2025-03-27T12:29:49.751412Z",
     "start_time": "2025-03-27T12:29:49.743892Z"
    }
   },
   "source": "3 < 6",
   "outputs": [
    {
     "data": {
      "text/plain": [
       "True"
      ]
     },
     "execution_count": 6,
     "metadata": {},
     "output_type": "execute_result"
    }
   ],
   "execution_count": 6
  },
  {
   "metadata": {
    "ExecuteTime": {
     "end_time": "2025-03-27T12:30:04.125465Z",
     "start_time": "2025-03-27T12:30:04.118204Z"
    }
   },
   "cell_type": "code",
   "source": "3 == 6",
   "id": "2443a3466506878",
   "outputs": [
    {
     "data": {
      "text/plain": [
       "False"
      ]
     },
     "execution_count": 7,
     "metadata": {},
     "output_type": "execute_result"
    }
   ],
   "execution_count": 7
  },
  {
   "metadata": {
    "ExecuteTime": {
     "end_time": "2025-03-27T12:30:36.570682Z",
     "start_time": "2025-03-27T12:30:36.565291Z"
    }
   },
   "cell_type": "code",
   "source": [
    "rad = 10\n",
    "rad == 10"
   ],
   "id": "1a730dacf3099c04",
   "outputs": [
    {
     "data": {
      "text/plain": [
       "True"
      ]
     },
     "execution_count": 8,
     "metadata": {},
     "output_type": "execute_result"
    }
   ],
   "execution_count": 8
  },
  {
   "metadata": {
    "ExecuteTime": {
     "end_time": "2025-03-27T12:31:44.731916Z",
     "start_time": "2025-03-27T12:31:44.726759Z"
    }
   },
   "cell_type": "code",
   "source": [
    "suf = 10\n",
    "vol = 20\n",
    "isStop = suf == vol\n",
    "print(isStop)"
   ],
   "id": "762f2313be5703e",
   "outputs": [
    {
     "name": "stdout",
     "output_type": "stream",
     "text": [
      "False\n"
     ]
    }
   ],
   "execution_count": 10
  },
  {
   "metadata": {
    "ExecuteTime": {
     "end_time": "2025-03-27T12:49:06.048821Z",
     "start_time": "2025-03-27T12:48:59.610981Z"
    }
   },
   "cell_type": "code",
   "source": [
    "#반지름, 높이 값 할당 (int타입으로 형변환)\n",
    "rad = int(input(\"반지름의 값을 입력하세요 : \"))\n",
    "hei = int(input(\"높이의 값을 입력하세요 : \"))\n",
    "\n",
    "if rad > 0 and hei > 0:\n",
    "    #부피 & 겉넓이 계산\n",
    "    vol = 1 / 3 * 3.14 * rad ** 2 * hei\n",
    "    suf = 3.14 * rad ** 2 + 3.14 * rad * hei\n",
    "    print(\"원뿔의 부피는 \",vol,\"입니다.\",sep=\"\")\n",
    "    print(\"원뿔의 겉넓이는 \",suf,\"입니다.\",sep=\"\")\n",
    "else :\n",
    "    print(\"반지름과 높이의 값을 모두 양수로 입력해주세요.\")\n"
   ],
   "id": "4881e048a33d5a0c",
   "outputs": [
    {
     "name": "stdout",
     "output_type": "stream",
     "text": [
      "반지름과 높이의 값을 모두 양수로 입력해주세요.\n"
     ]
    }
   ],
   "execution_count": 22
  },
  {
   "metadata": {
    "ExecuteTime": {
     "end_time": "2025-03-27T12:40:35.841467Z",
     "start_time": "2025-03-27T12:40:35.836417Z"
    }
   },
   "cell_type": "code",
   "source": [
    "temp = 20\n",
    "fruit=\"apple\"\n",
    "\n",
    "print(temp<=27 or fruit==\"apple\")"
   ],
   "id": "3d981efa4b355576",
   "outputs": [
    {
     "name": "stdout",
     "output_type": "stream",
     "text": [
      "True\n"
     ]
    }
   ],
   "execution_count": 20
  },
  {
   "metadata": {
    "ExecuteTime": {
     "end_time": "2025-03-27T12:52:40.753485Z",
     "start_time": "2025-03-27T12:52:30.616393Z"
    }
   },
   "cell_type": "code",
   "source": [
    "a = int(input(\"A 입력 : \"))\n",
    "b = int(input(\"B 입력 : \"))\n",
    "c = int(input(\"C 입력 : \"))\n",
    "\n",
    "if a > b:\n",
    "    if a > c:\n",
    "        print(a)\n",
    "    else:\n",
    "        print(c)\n",
    "else:\n",
    "    if b>c:\n",
    "        print(b)\n",
    "    else:\n",
    "        print(c)"
   ],
   "id": "b0b007baf5b50c62",
   "outputs": [
    {
     "name": "stdout",
     "output_type": "stream",
     "text": [
      "3\n"
     ]
    }
   ],
   "execution_count": 24
  },
  {
   "metadata": {},
   "cell_type": "code",
   "outputs": [],
   "execution_count": null,
   "source": "",
   "id": "1f3c63c44655c99a"
  }
 ],
 "metadata": {
  "kernelspec": {
   "display_name": "Python 3",
   "language": "python",
   "name": "python3"
  },
  "language_info": {
   "codemirror_mode": {
    "name": "ipython",
    "version": 2
   },
   "file_extension": ".py",
   "mimetype": "text/x-python",
   "name": "python",
   "nbconvert_exporter": "python",
   "pygments_lexer": "ipython2",
   "version": "2.7.6"
  }
 },
 "nbformat": 4,
 "nbformat_minor": 5
}
